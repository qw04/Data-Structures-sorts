{
  "cells": [
    {
      "cell_type": "code",
      "execution_count": null,
      "metadata": {
        "id": "T3EIshypg79a"
      },
      "outputs": [],
      "source": [
        "! pip install -q kaggle\n",
        "from google.colab import files\n",
        "files.upload()\n",
        "! mkdir ~/.kaggle\n",
        "! cp kaggle.json ~/.kaggle/\n",
        "! chmod 600 ~/.kaggle/kaggle.json\n",
        "! kaggle datasets list\n",
        "import kaggle\n",
        "! kaggle datasets download -d frabbisw/facial-age\n",
        "! mkdir ageData1\n",
        "! unzip facial-age.zip -d ageData1\n",
        "! kaggle datasets download -d jangedoo/utkface-new\n",
        "! mkdir ageData2\n",
        "! unzip utkface-new.zip -d ageData2"
      ]
    },
    {
      "cell_type": "code",
      "execution_count": null,
      "metadata": {
        "id": "j1SVV80Rg8ob"
      },
      "outputs": [],
      "source": [
        "import math\n",
        "import cv2\n",
        "import numpy as np\n",
        "import os\n",
        "import sys\n",
        "import tensorflow as tf\n",
        "from sklearn.model_selection import train_test_split"
      ]
    },
    {
      "cell_type": "code",
      "execution_count": null,
      "metadata": {
        "id": "JXEskgxOhCeJ"
      },
      "outputs": [],
      "source": [
        "data_dir1 = \"/content/ageData1/face_age\"\n",
        "data_dir2 = \"/content/ageData2/UTKFace\"\n",
        "EPOCHS = 20\n",
        "IMG_WIDTH = 50\n",
        "IMG_HEIGHT = 50\n",
        "NUM_CATEGORIES = 1\n",
        "TEST_SIZE = 0.3\n",
        "images = []\n",
        "labels = []"
      ]
    },
    {
      "cell_type": "code",
      "execution_count": null,
      "metadata": {
        "colab": {
          "base_uri": "https://localhost:8080/"
        },
        "id": "oSQQAom1hIfx",
        "outputId": "7a5244f7-2c99-4299-eb01-d589fe643ab3"
      },
      "outputs": [
        {
          "output_type": "stream",
          "name": "stdout",
          "text": [
            "set()\n"
          ]
        }
      ],
      "source": [
        "another_useless_array = []\n",
        "for folder in os.listdir(data_dir1):\n",
        "  folder_path = os.path.join(data_dir1, folder)\n",
        "  if os.path.isdir(folder_path) and folder != 'face_age':\n",
        "    temp = int(folder)\n",
        "    for file in os.listdir(folder_path):\n",
        "      try:\n",
        "        if folder != 'face_age':\n",
        "          image = cv2.imread(os.path.join(folder_path, file), cv2.IMREAD_COLOR)\n",
        "          image = cv2.resize(image, (IMG_WIDTH, IMG_HEIGHT), interpolation=cv2.INTER_AREA)\n",
        "          images.append(image)\n",
        "          labels.append(temp)\n",
        "      except Exception as e:\n",
        "        print(e)\n",
        "        another_useless_array.append(folder)\n",
        "        pass\n",
        "another_useless_set = set(another_useless_array)\n",
        "print(another_useless_set)\n",
        "#print(image[0])"
      ]
    },
    {
      "cell_type": "code",
      "execution_count": null,
      "metadata": {
        "colab": {
          "base_uri": "https://localhost:8080/"
        },
        "id": "2DvM6gl6ixVe",
        "outputId": "42fe8152-c0a8-4257-8014-2046d71e4fa0"
      },
      "outputs": [
        {
          "output_type": "stream",
          "name": "stdout",
          "text": [
            "set()\n"
          ]
        }
      ],
      "source": [
        "for randomFile in os.listdir(data_dir2):\n",
        "  folder_path = os.path.join(data_dir2, randomFile)\n",
        "  var = randomFile[:2]\n",
        "  if not var.isdigit():\n",
        "    var = var[0]\n",
        "  temp = int(var)\n",
        "  try:  \n",
        "    image = cv2.imread(folder_path, cv2.IMREAD_COLOR)\n",
        "    image = cv2.resize(image, (IMG_WIDTH, IMG_HEIGHT), interpolation=cv2.INTER_AREA)\n",
        "    images.append(image)\n",
        "    labels.append(temp)\n",
        "  except Exception as e:\n",
        "    another_useless_array.append(randomFile)\n",
        "    pass\n",
        "print(set(another_useless_array))"
      ]
    },
    {
      "cell_type": "code",
      "execution_count": null,
      "metadata": {
        "id": "gLbI3YUQGxvG"
      },
      "outputs": [],
      "source": [
        "labels = [x/110 for x in labels]"
      ]
    },
    {
      "cell_type": "code",
      "execution_count": null,
      "metadata": {
        "colab": {
          "base_uri": "https://localhost:8080/"
        },
        "id": "eBtu4cLkilii",
        "outputId": "7c71ce18-415b-4b98-af19-661f2fcc3038"
      },
      "outputs": [
        {
          "output_type": "execute_result",
          "data": {
            "text/plain": [
              "0.00909090909090909"
            ]
          },
          "metadata": {},
          "execution_count": 45
        }
      ],
      "source": [
        "min(labels)"
      ]
    },
    {
      "cell_type": "code",
      "execution_count": null,
      "metadata": {
        "id": "RNcDERpLjIjE"
      },
      "outputs": [],
      "source": [
        "def get_model():\n",
        "    \"\"\"\n",
        "    Returns a compiled convolutional neural network model. Assume that the\n",
        "    `input_shape` of the first layer is `(IMG_WIDTH, IMG_HEIGHT, 3)`.\n",
        "    The output layer should have `NUM_CATEGORIES` units, one for each category.\n",
        "    \"\"\"\n",
        "    model = tf.keras.models.Sequential([\n",
        "        tf.keras.layers.Conv2D(32, (3, 3), activation=\"sigmoid\", input_shape=(IMG_WIDTH, IMG_HEIGHT, 3)),\n",
        "        tf.keras.layers.MaxPooling2D(pool_size=(3, 3)),\n",
        "        tf.keras.layers.Conv2D(32, (3, 3), activation=\"sigmoid\"),\n",
        "        tf.keras.layers.MaxPooling2D(pool_size=(3, 3)),\n",
        "        tf.keras.layers.Flatten(),\n",
        "        tf.keras.layers.Dropout(0.5),\n",
        "        tf.keras.layers.Dense(NUM_CATEGORIES * 64, activation=\"sigmoid\"),\n",
        "        tf.keras.layers.Dropout(0.5),\n",
        "        tf.keras.layers.Dense(NUM_CATEGORIES * 32, activation=\"sigmoid\"),\n",
        "        tf.keras.layers.Dropout(0.5),\n",
        "        tf.keras.layers.Dense(NUM_CATEGORIES * 16, activation=\"sigmoid\"),\n",
        "        tf.keras.layers.Dropout(0.5),\n",
        "        tf.keras.layers.Dense(NUM_CATEGORIES * 8, activation=\"sigmoid\"),\n",
        "        tf.keras.layers.Dropout(0.5),\n",
        "        tf.keras.layers.Dense(NUM_CATEGORIES * 4, activation=\"sigmoid\"),\n",
        "        tf.keras.layers.Dropout(0.5),\n",
        "        tf.keras.layers.Dense(NUM_CATEGORIES * 2, activation=\"sigmoid\"),\n",
        "        tf.keras.layers.Dropout(0.5),\n",
        "        tf.keras.layers.Dense(NUM_CATEGORIES, activation=\"softmax\")\n",
        "    ])\n",
        "    model.compile(\n",
        "        optimizer=\"adam\",\n",
        "        loss=\"categorical_crossentropy\",\n",
        "        metrics=[\"accuracy\"],\n",
        "    )\n",
        "    return model"
      ]
    },
    {
      "cell_type": "code",
      "execution_count": null,
      "metadata": {
        "id": "4pRrE5jnjQhu"
      },
      "outputs": [],
      "source": [
        "model = get_model()\n",
        "# model.summary()"
      ]
    },
    {
      "cell_type": "code",
      "execution_count": null,
      "metadata": {
        "id": "EAFKteX1oW6Y"
      },
      "outputs": [],
      "source": [
        "x_train, x_test, y_train, y_test = train_test_split(\n",
        "    np.array(images), np.array(labels), test_size=TEST_SIZE\n",
        "    )"
      ]
    },
    {
      "cell_type": "code",
      "execution_count": null,
      "metadata": {
        "id": "6_96pmvYjejI"
      },
      "outputs": [],
      "source": [
        "model.fit(x_train, y_train,\n",
        "          epochs=EPOCHS,\n",
        "          )"
      ]
    },
    {
      "cell_type": "code",
      "execution_count": null,
      "metadata": {
        "id": "WXvji1hliWVr"
      },
      "outputs": [],
      "source": [
        "predictions = model.predict(x_test)\n",
        "predictions = predictions.tolist()"
      ]
    },
    {
      "cell_type": "code",
      "execution_count": null,
      "metadata": {
        "id": "JC2YJkBtF79j"
      },
      "outputs": [],
      "source": [
        "predictions = [x[0]*110 for x in predictions]"
      ]
    },
    {
      "cell_type": "code",
      "execution_count": null,
      "metadata": {
        "colab": {
          "base_uri": "https://localhost:8080/"
        },
        "id": "pgZw6xHLhUxw",
        "outputId": "7f758c4a-9b78-4240-d2f2-76115c20ca50"
      },
      "outputs": [
        {
          "output_type": "execute_result",
          "data": {
            "text/plain": [
              "{110.0}"
            ]
          },
          "metadata": {},
          "execution_count": 58
        }
      ],
      "source": [
        "set(predictions)"
      ]
    },
    {
      "cell_type": "code",
      "execution_count": null,
      "metadata": {
        "colab": {
          "base_uri": "https://localhost:8080/"
        },
        "id": "n6urJD63pBNK",
        "outputId": "aaf91d81-a124-4140-ab39-cc16ed99d417"
      },
      "outputs": [
        {
          "output_type": "stream",
          "name": "stdout",
          "text": [
            "accuracy: 1.0\n"
          ]
        }
      ],
      "source": [
        "correct = 0\n",
        "incorrect = 0\n",
        "for i, j in zip(predictions, y_test):\n",
        "  if j > 20:\n",
        "    tempTest = 1\n",
        "  else:\n",
        "    tempTest = 0\n",
        "  if i > 20:\n",
        "    tempPrediction = 1\n",
        "  else:\n",
        "    tempPrediction = 0\n",
        "  if tempPrediction == tempTest:\n",
        "    correct += 1\n",
        "  else:\n",
        "    incorrect += 1\n",
        "accuracy = (correct)/(correct+incorrect)\n",
        "print(f'accuracy: {accuracy}')"
      ]
    },
    {
      "cell_type": "code",
      "execution_count": null,
      "metadata": {
        "colab": {
          "base_uri": "https://localhost:8080/"
        },
        "id": "UkACFBprAbBF",
        "outputId": "138368ce-f949-44e1-8967-b5bd4e164d51"
      },
      "outputs": [
        {
          "output_type": "stream",
          "name": "stdout",
          "text": [
            "{1.0}\n"
          ]
        }
      ],
      "source": [
        "print(set(predictions))"
      ]
    },
    {
      "cell_type": "code",
      "execution_count": null,
      "metadata": {
        "colab": {
          "base_uri": "https://localhost:8080/"
        },
        "id": "yE0LGVfNFWxW",
        "outputId": "dc4ef88f-7f9c-4304-b86d-582c0d8c3bd7"
      },
      "outputs": [
        {
          "output_type": "stream",
          "name": "stdout",
          "text": [
            "[0.30909091 0.31818182 0.46363636 0.06363636 0.16363636]\n"
          ]
        }
      ],
      "source": [
        "print(y_test[:5])"
      ]
    },
    {
      "cell_type": "code",
      "execution_count": null,
      "metadata": {
        "colab": {
          "base_uri": "https://localhost:8080/"
        },
        "id": "8rzUIR_dFaos",
        "outputId": "5a8fdf4d-ca79-4566-f877-26655e115c74"
      },
      "outputs": [
        {
          "output_type": "stream",
          "name": "stdout",
          "text": [
            "[1.0, 1.0, 1.0, 1.0, 1.0]\n"
          ]
        }
      ],
      "source": [
        "print(predictions[:5])"
      ]
    },
    {
      "cell_type": "code",
      "execution_count": null,
      "metadata": {
        "id": "Mo03KjRvFjhK"
      },
      "outputs": [],
      "source": [
        ""
      ]
    }
  ],
  "metadata": {
    "colab": {
      "collapsed_sections": [],
      "name": "tryingOutNonCategoricalLabels.ipynb",
      "provenance": [],
      "authorship_tag": "ABX9TyNCfu/skNpao9fASz5Vcohu"
    },
    "kernelspec": {
      "display_name": "Python 3",
      "name": "python3"
    },
    "language_info": {
      "name": "python"
    }
  },
  "nbformat": 4,
  "nbformat_minor": 0
}